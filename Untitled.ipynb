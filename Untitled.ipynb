{
 "cells": [
  {
   "cell_type": "code",
   "execution_count": 64,
   "metadata": {
    "collapsed": true
   },
   "outputs": [],
   "source": [
    "import numpy as np\n",
    "import math\n",
    "import sympy as sym\n",
    "from scipy.integrate import ode\n",
    "from scipy.io import loadmat\n",
    "import scipy\n",
    "from scipy import stats\n",
    "import pickle\n",
    "import copy\n",
    "import filter_functions\n",
    "from sympy.utilities.lambdify import lambdify\n",
    "import matplotlib.pyplot as plt\n",
    "from IPython.core.debugger import Tracer\n",
    "from mpl_toolkits.mplot3d import Axes3D\n",
    "import warnings\n",
    "warnings.filterwarnings('ignore')\n",
    "\n",
    "%matplotlib inline\n",
    "plt.rcParams['figure.figsize'] = (10.0, 6.0)\n",
    "plt.rcParams['xtick.labelsize'] = 14\n",
    "plt.rcParams['ytick.labelsize'] = 14\n",
    "np.set_printoptions(precision=15)\n",
    "sym.init_printing()\n",
    "from IPython.display import display\n",
    "\n",
    "#MSIS: https://github.com/DeepHorizons/Python-NRLMSISE-00\n",
    "#import time\n",
    "from nrlmsise_00_header import *\n",
    "from nrlmsise_00 import *\n",
    "#SUBROUTINE GTD7D -- d[5] is the \"effective total mass density\n",
    "#for drag\" and is the sum of the mass densities of all species\n",
    "#in this model, INCLUDING anomalous oxygen.\n",
    "\n",
    "#define constants\n",
    "r_earth_const = 6378136.3 * 1e-3 #km\n",
    "omega_const = 7.2921158553e-5 #rad/s, angular velocity of earth\n",
    "J_2_const = .00108262617385222\n",
    "J_3_const = -.00000253241051856772\n",
    "mu_earth = 3.986004415e14 * 1e-9 #km^3/s^2\n",
    "\n",
    "\n",
    "#Drag:\n",
    "A_const = 0.9551567 * 1e-6 #km^2; cross-sectional area of satellite\n",
    "m_const = 10 #kg; mass of satellite\n",
    "C_D_const = 2.0\n",
    "theta_dot_const = 7.2921158553e-5 #rad/sec"
   ]
  },
  {
   "cell_type": "code",
   "execution_count": 67,
   "metadata": {},
   "outputs": [
    {
     "name": "stdout",
     "output_type": "stream",
     "text": [
      "(441, 5)\n",
      "(441, 6)\n",
      "(50, 7)\n"
     ]
    }
   ],
   "source": [
    "\n",
    "\n",
    "\n",
    "\n",
    "meas_file = open('Data Files/meas_az_el_range.pkl', 'rb') #_10s_all_3stat.pkl\n",
    "# read python dict containing measurements\n",
    "mydict2 = pickle.load(meas_file)\n",
    "meas_file.close()\n",
    "measurement_array = mydict2['measurement_array']\n",
    "truth_xyz = mydict2['truth_pos_vel']\n",
    "true_density_array = mydict2['true_density']\n",
    "print(np.shape(measurement_array))\n",
    "print(np.shape(truth_xyz))\n",
    "\n",
    "\n",
    "\n",
    "# read python dict containing densities\n",
    "results_file = open('Figures/2Periods/Results.pkl', 'rb') #Results_1Period/Results_558.pkl\n",
    "mydict = pickle.load(results_file)\n",
    "results_file.close()\n",
    "\n",
    "X_mean_updated_list_EnKF = mydict['X_mean_updated_list_EnKF'] \n",
    "P_list_EnKF = mydict['P_list_EnKF'] \n",
    "post_fit_list_EnKF = mydict['post_fit_list_EnKF'] \n",
    "density_MSIS_array = mydict['density_MSIS_array'] \n",
    "est_density_array = mydict['est_density_array'] \n",
    "X_distribution = mydict['X_distribution'] \n",
    "density_distribution = mydict['density_distribution'] \n",
    "lat_lst_array = mydict['lat_lst_array'] \n",
    "\n",
    "final_density_ensemble_est = mydict['final_density_ensemble_est'] \n",
    "final_X_ensemble = mydict['final_X_ensemble'] \n",
    "print(np.shape(X_mean_updated_list_EnKF))\n",
    "filter_size = len(X_mean_updated_list_EnKF)\n"
   ]
  },
  {
   "cell_type": "code",
   "execution_count": 68,
   "metadata": {},
   "outputs": [
    {
     "name": "stdout",
     "output_type": "stream",
     "text": [
      "9.26869857369e-05\n",
      "2.84222638271e-06\n",
      "-8.98447593542e-05\n",
      "[ -8.919832976040140e-03  -2.438919320369041e-03   2.146957891573884e-03\n",
      "  -7.484511205103077e-06  -9.135541505604639e-06  -6.299601518954812e-06]\n"
     ]
    }
   ],
   "source": [
    "\n",
    "np.shape(true_density_array)\n",
    "\n",
    "print(np.mean(true_density_array[:filter_size]*1e9 - est_density_array))\n",
    "\n",
    "print(np.mean(true_density_array[:filter_size]*1e9 - density_MSIS_array))\n",
    "\n",
    "print(np.mean(est_density_array - density_MSIS_array))\n",
    "\n",
    "\n",
    "\n",
    "print(np.mean(truth_xyz[:filter_size]*1e-3 - X_mean_updated_list_EnKF[:,:6],axis=0))\n",
    "\n",
    "#print(np.mean(truth_xyz[:8641] - truth_xyz_old, axis=0))\n"
   ]
  },
  {
   "cell_type": "code",
   "execution_count": 72,
   "metadata": {},
   "outputs": [
    {
     "name": "stdout",
     "output_type": "stream",
     "text": [
      "[ -1.103307540824793e-15   5.078362462835552e-14   9.348466522633024e-14\n",
      "   1.668104219091129e-13   2.434819362254096e-13   2.799219958536238e-13\n",
      "   3.047598086657308e-13   3.305110131805699e-13   4.261988352341527e-13\n",
      "   4.700613649975251e-13   4.842068507357309e-13   4.193757777078573e-13\n",
      "   3.672854670958942e-13   1.987446928840640e-13   2.238589279684570e-13\n",
      "   1.898746994858662e-13   1.519283390840981e-13   8.215422773522580e-14\n",
      "   5.145061630541462e-14  -3.374899401280489e-15   2.700543164966515e-14\n",
      "   5.668554696975266e-14  -5.065566523718107e-14  -4.980346692924818e-14\n",
      "  -8.417657239017135e-14  -5.545738458592525e-14  -1.801208604292375e-13\n",
      "  -8.835557965499208e-14  -1.303486347209932e-13  -1.467507540027058e-14\n",
      "   3.061552499413862e-14   5.876112696703225e-14   4.683145977857180e-14\n",
      "   1.496660361308039e-13   1.320868825682071e-13   1.367359317190229e-13\n",
      "   1.521900535297568e-13   1.375977891469886e-13   8.405551939716299e-14\n",
      "   1.234814971593613e-13   5.947212748998284e-14  -2.993948413639391e-14\n",
      "   7.645243114531554e-14  -2.659907178235262e-14  -8.282130238036689e-14\n",
      "  -2.988094910056822e-14  -2.237811150894168e-13  -1.317246678233579e-13\n",
      "   3.461440885576909e-14  -2.397770897901319e-14]\n"
     ]
    }
   ],
   "source": [
    "print(true_density_array[:filter_size]- est_density_array*1e-9)"
   ]
  },
  {
   "cell_type": "code",
   "execution_count": 69,
   "metadata": {},
   "outputs": [
    {
     "name": "stdout",
     "output_type": "stream",
     "text": [
      "[ 0.000416998032491  0.000465297187672  0.000564535732923\n",
      "  0.000705435019112  0.000884720607644  0.001075572360024  0.00125587873372\n",
      "  0.001424153940147  0.001580505348689  0.001720627649745\n",
      "  0.001819419975027  0.001837341079632  0.001769126951526\n",
      "  0.001636473187339  0.001476485480595  0.001319136255165\n",
      "  0.001150800914614  0.00095264156016   0.000760360719413\n",
      "  0.000632387530093  0.000580906542925  0.00056442498357   0.000537421788702\n",
      "  0.000499383567086  0.000474252135814  0.000462281094504\n",
      "  0.000442441823827  0.000417487878665  0.00042396750047   0.000486602438447\n",
      "  0.000598265897662  0.000752480206774  0.000940155233278\n",
      "  0.001130294325629  0.001307455219966  0.001472208382704\n",
      "  0.001624225909928  0.001755825911846  0.001834717303643\n",
      "  0.001827690757021  0.00173932051155   0.001595903193218\n",
      "  0.001437638152428  0.001281754248556  0.001103196301274\n",
      "  0.000895890397003  0.000712424730852  0.00060551183983   0.000569148786328\n",
      "  0.000553183827726]\n",
      "[ 0.000418101340032  0.000414513563044  0.000471051067697\n",
      "  0.000538624597202  0.000641238671419  0.000795650364171\n",
      "  0.000951118925054  0.001093642926966  0.001154306513454\n",
      "  0.001250566284748  0.001335213124292  0.001417965301924  0.00140184148443\n",
      "  0.001437728494455  0.001252626552627  0.001129261555679  0.00099887257553\n",
      "  0.000870487332424  0.000708910103108  0.000635762429494\n",
      "  0.000553901111276  0.0005077394366    0.000588077453939\n",
      "  0.000549187034015  0.000558428708204  0.00051773847909   0.000622562684256\n",
      "  0.00050584345832   0.000554316135191  0.000501277513847\n",
      "  0.000567650372668  0.000693719079807  0.000893323773499\n",
      "  0.000980628289498  0.001175368337398  0.001335472450985\n",
      "  0.001472035856398  0.001618228122699  0.001750661784246\n",
      "  0.001704209259862  0.00167984838406   0.001625842677355\n",
      "  0.001361185721282  0.001308353320339  0.001186017603654\n",
      "  0.000925771346103  0.000936205845942  0.000737236507653\n",
      "  0.000534534377472  0.000577161536705]\n"
     ]
    }
   ],
   "source": [
    "print(true_density_array[:filter_size]*1e9)\n",
    "print(est_density_array)"
   ]
  },
  {
   "cell_type": "code",
   "execution_count": 57,
   "metadata": {},
   "outputs": [
    {
     "data": {
      "text/plain": [
       "array([1, 4, 7])"
      ]
     },
     "execution_count": 57,
     "metadata": {},
     "output_type": "execute_result"
    }
   ],
   "source": [
    "a = np.arange(1,10,1)\n",
    "a[0::3]"
   ]
  },
  {
   "cell_type": "code",
   "execution_count": null,
   "metadata": {
    "collapsed": true
   },
   "outputs": [],
   "source": []
  },
  {
   "cell_type": "code",
   "execution_count": null,
   "metadata": {
    "collapsed": true
   },
   "outputs": [],
   "source": []
  },
  {
   "cell_type": "code",
   "execution_count": null,
   "metadata": {
    "collapsed": true
   },
   "outputs": [],
   "source": []
  }
 ],
 "metadata": {
  "kernelspec": {
   "display_name": "Python 3",
   "language": "python",
   "name": "python3"
  },
  "language_info": {
   "codemirror_mode": {
    "name": "ipython",
    "version": 3
   },
   "file_extension": ".py",
   "mimetype": "text/x-python",
   "name": "python",
   "nbconvert_exporter": "python",
   "pygments_lexer": "ipython3",
   "version": "3.5.4"
  }
 },
 "nbformat": 4,
 "nbformat_minor": 2
}
